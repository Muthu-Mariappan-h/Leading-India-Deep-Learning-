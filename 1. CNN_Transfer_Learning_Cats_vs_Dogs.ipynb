{
  "cells": [
    {
      "metadata": {},
      "cell_type": "markdown",
      "source": "### Importing packages"
    },
    {
      "metadata": {
        "scrolled": true,
        "trusted": true
      },
      "cell_type": "code",
      "source": "%matplotlib inline\n\nimport numpy as np\nimport pandas as pd\nfrom keras.preprocessing.image import ImageDataGenerator\nfrom keras.models import Model\nfrom keras.layers import Input, Flatten, Dense\nfrom keras.callbacks import Callback, ModelCheckpoint\nfrom keras.applications.vgg16 import VGG16\nfrom keras.preprocessing import image\nfrom keras.applications.vgg16 import preprocess_input\n\nimport warnings\nwarnings.filterwarnings('ignore')",
      "execution_count": 10,
      "outputs": []
    },
    {
      "metadata": {},
      "cell_type": "markdown",
      "source": "###  Load the pretrained Network"
    },
    {
      "metadata": {
        "trusted": true
      },
      "cell_type": "code",
      "source": "model_vgg16_conv = VGG16(weights='imagenet', include_top=False)",
      "execution_count": 11,
      "outputs": []
    },
    {
      "metadata": {},
      "cell_type": "markdown",
      "source": "###  Freeze the layers"
    },
    {
      "metadata": {
        "trusted": true
      },
      "cell_type": "code",
      "source": "for layer in model_vgg16_conv.layers:\n    layer.trainable = False",
      "execution_count": 12,
      "outputs": []
    },
    {
      "metadata": {},
      "cell_type": "markdown",
      "source": "###  Training parameters"
    },
    {
      "metadata": {
        "trusted": true
      },
      "cell_type": "code",
      "source": "img_width, img_height = 150, 150\ntrain_data_dir = 'TRAINING'\nval_data_dir = 'TESTING'\nmodel_weights_file = 'vgg16-xfer-weights.h5'\nnb_train_samples = 4\nnb_val_samples = 4\nnb_epochs = 5",
      "execution_count": 16,
      "outputs": []
    },
    {
      "metadata": {},
      "cell_type": "markdown",
      "source": "###  Build a classification model on top of Base Network"
    },
    {
      "metadata": {
        "trusted": true
      },
      "cell_type": "code",
      "source": "input = Input(shape=(img_width, img_height, 3))\noutput_vgg16_conv = model_vgg16_conv(input)\nx = Flatten()(output_vgg16_conv)\nx = Dense(64, activation='relu')(x)\nx = Dense(2, activation='softmax')(x)\nmodel = Model(input=input, output=x)\n\nmodel.compile(loss='categorical_crossentropy', optimizer='rmsprop', metrics=['accuracy'])",
      "execution_count": 17,
      "outputs": []
    },
    {
      "metadata": {},
      "cell_type": "markdown",
      "source": "###  Dataset Preparation"
    },
    {
      "metadata": {
        "trusted": true
      },
      "cell_type": "code",
      "source": "train_datagen = ImageDataGenerator(rescale=1./255, shear_range=0.2, zoom_range=0.2, horizontal_flip=True)\ntest_datagen = ImageDataGenerator(rescale=1./255)\n\ntrain_generator = train_datagen.flow_from_directory(train_data_dir, target_size=(img_width, img_height), \n                                                    batch_size=4, class_mode='categorical')\nvalidation_generator = test_datagen.flow_from_directory(val_data_dir, target_size=(img_width, img_height), \n                                                        batch_size=4,class_mode='categorical')",
      "execution_count": 18,
      "outputs": [
        {
          "output_type": "stream",
          "text": "Found 4 images belonging to 2 classes.\nFound 4 images belonging to 2 classes.\n",
          "name": "stdout"
        }
      ]
    },
    {
      "metadata": {},
      "cell_type": "markdown",
      "source": "###  Training"
    },
    {
      "metadata": {
        "scrolled": false,
        "trusted": true
      },
      "cell_type": "code",
      "source": "callbacks = [ModelCheckpoint(model_weights_file, monitor='val_acc', save_best_only=True)]\n\nhistory = model.fit_generator( train_generator, callbacks = callbacks, samples_per_epoch=nb_train_samples, \n                              nb_epoch=nb_epochs, validation_data=validation_generator, nb_val_samples=nb_val_samples)\n\nprint('Training Completed!')",
      "execution_count": 19,
      "outputs": [
        {
          "output_type": "stream",
          "text": "Epoch 1/5\n1/1 [==============================] - 28s - loss: 0.7669 - acc: 0.5000 - val_loss: 1.9878 - val_acc: 0.5000\nEpoch 2/5\n1/1 [==============================] - 14s - loss: 1.8849 - acc: 0.5000 - val_loss: 4.6661 - val_acc: 0.5000\nEpoch 3/5\n1/1 [==============================] - 23s - loss: 2.5775 - acc: 0.5000 - val_loss: 0.0984 - val_acc: 1.0000\nEpoch 4/5\n1/1 [==============================] - 15s - loss: 0.0100 - acc: 1.0000 - val_loss: 0.1324 - val_acc: 1.0000\nEpoch 5/5\n1/1 [==============================] - 14s - loss: 0.0060 - acc: 1.0000 - val_loss: 0.1076 - val_acc: 1.0000\nTraining Completed!\n",
          "name": "stdout"
        }
      ]
    },
    {
      "metadata": {},
      "cell_type": "markdown",
      "source": "###  Test the model"
    },
    {
      "metadata": {
        "trusted": true
      },
      "cell_type": "code",
      "source": "img_path = 'chiti.jpg'\nlabel = ['Man','Robo']\nimg = image.load_img(img_path, target_size=(150, 150))\nx = image.img_to_array(img)\nx = np.expand_dims(x, axis=0)\nx = preprocess_input(x)\n\nfeatures = model.predict(x)\nind = np.where(features == 1)[1][0]\nprint('Predicted Array:',features)\nprint('Predicted Label:',label[ind])",
      "execution_count": 24,
      "outputs": [
        {
          "output_type": "error",
          "ename": "IndexError",
          "evalue": "index 0 is out of bounds for axis 0 with size 0",
          "traceback": [
            "\u001b[0;31m---------------------------------------------------------------------------\u001b[0m",
            "\u001b[0;31mIndexError\u001b[0m                                Traceback (most recent call last)",
            "\u001b[0;32m<ipython-input-24-58707ecfb88e>\u001b[0m in \u001b[0;36m<module>\u001b[0;34m()\u001b[0m\n\u001b[1;32m      7\u001b[0m \u001b[0;34m\u001b[0m\u001b[0m\n\u001b[1;32m      8\u001b[0m \u001b[0mfeatures\u001b[0m \u001b[0;34m=\u001b[0m \u001b[0mmodel\u001b[0m\u001b[0;34m.\u001b[0m\u001b[0mpredict\u001b[0m\u001b[0;34m(\u001b[0m\u001b[0mx\u001b[0m\u001b[0;34m)\u001b[0m\u001b[0;34m\u001b[0m\u001b[0m\n\u001b[0;32m----> 9\u001b[0;31m \u001b[0mind\u001b[0m \u001b[0;34m=\u001b[0m \u001b[0mnp\u001b[0m\u001b[0;34m.\u001b[0m\u001b[0mwhere\u001b[0m\u001b[0;34m(\u001b[0m\u001b[0mfeatures\u001b[0m \u001b[0;34m==\u001b[0m \u001b[0;36m1\u001b[0m\u001b[0;34m)\u001b[0m\u001b[0;34m[\u001b[0m\u001b[0;36m1\u001b[0m\u001b[0;34m]\u001b[0m\u001b[0;34m[\u001b[0m\u001b[0;36m0\u001b[0m\u001b[0;34m]\u001b[0m\u001b[0;34m\u001b[0m\u001b[0m\n\u001b[0m\u001b[1;32m     10\u001b[0m \u001b[0mprint\u001b[0m\u001b[0;34m(\u001b[0m\u001b[0;34m'Predicted Array:'\u001b[0m\u001b[0;34m,\u001b[0m\u001b[0mfeatures\u001b[0m\u001b[0;34m)\u001b[0m\u001b[0;34m\u001b[0m\u001b[0m\n\u001b[1;32m     11\u001b[0m \u001b[0mprint\u001b[0m\u001b[0;34m(\u001b[0m\u001b[0;34m'Predicted Label:'\u001b[0m\u001b[0;34m,\u001b[0m\u001b[0mlabel\u001b[0m\u001b[0;34m[\u001b[0m\u001b[0mind\u001b[0m\u001b[0;34m]\u001b[0m\u001b[0;34m)\u001b[0m\u001b[0;34m\u001b[0m\u001b[0m\n",
            "\u001b[0;31mIndexError\u001b[0m: index 0 is out of bounds for axis 0 with size 0"
          ]
        }
      ]
    },
    {
      "metadata": {},
      "cell_type": "markdown",
      "source": "### Models for image classification with weights trained on ImageNet\n* Xception\n* VGG16\n* VGG19\n* ResNet50\n* InceptionV3\n* InceptionResNetV2\n* MobileNet\n* DenseNet\n* NASNet"
    }
  ],
  "metadata": {
    "anaconda-cloud": {},
    "hide_input": false,
    "kernelspec": {
      "name": "python3",
      "display_name": "Python 3",
      "language": "python"
    },
    "language_info": {
      "mimetype": "text/x-python",
      "nbconvert_exporter": "python",
      "name": "python",
      "file_extension": ".py",
      "version": "3.5.4",
      "pygments_lexer": "ipython3",
      "codemirror_mode": {
        "version": 3,
        "name": "ipython"
      }
    }
  },
  "nbformat": 4,
  "nbformat_minor": 2
}